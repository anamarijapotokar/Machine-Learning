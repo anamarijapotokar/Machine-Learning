{
 "cells": [
  {
   "cell_type": "markdown",
   "metadata": {},
   "source": [
    "# 1. Domača Naloga"
   ]
  },
  {
   "cell_type": "markdown",
   "metadata": {},
   "source": [
    "## Naloga 1 (20 točk): Regularizacija Tihonova (Ridge regression)"
   ]
  },
  {
   "cell_type": "markdown",
   "metadata": {},
   "source": [
    "1.a (5 točk): Dopolni funkciji *najdi_koeficiente* in *napovej*. Funkcija *najdi_koeficiente* naj najde optimalne koeficiente za linearno regresijo in začetno vrednost, funkcija *napovej* pa naj napove ciljno vrednost, glede na dane koeficiente in podatke. Pomagaj si s prosojnicami iz predavanj, funkcijo inverza numpy.linalg.inv(array), funkcijo numpy.concatenate in matričnim množenjem (numpy.matmul(array1, array2) ali @). Pravilnost funkcij lahko preveriš s spodnjo kodo. \n",
    "\n",
    "Kakšne vrednosti koeficientov pričakuješ in kakšne si dobil/a? "
   ]
  },
  {
   "cell_type": "code",
   "execution_count": 3,
   "metadata": {},
   "outputs": [],
   "source": [
    "import numpy as np"
   ]
  },
  {
   "cell_type": "code",
   "execution_count": 4,
   "metadata": {},
   "outputs": [],
   "source": [
    "def najdi_koeficiente(x_train: np.array, y_train: np.array) -> np.array:\n",
    "    # učni algoritem LinR je beta = (X^T X)^-1 X^T y\n",
    "    # dodamo prvi stolpec, da bomo lahko zračunali začetno vrednost\n",
    "    x_train_razsirjen = np.concatenate([np.ones((x_train.shape[0], 1)), x_train], axis=1)\n",
    "    # izračunamo X^T X\n",
    "    produkt = np.matmul(x_train_razsirjen.T, x_train_razsirjen)\n",
    "    # izračunamo inverz\n",
    "    inverz = np.linalg.inv(produkt)\n",
    "    # X^T y\n",
    "    xty = np.matmul(x_train_razsirjen.T, y_train)\n",
    "\n",
    "    koeficienti = np.matmul(inverz, xty)\n",
    "\n",
    "    return koeficienti\n",
    "\n",
    "\n",
    "\n",
    "\n",
    "def napovej(coefs: np.array, x_test: np.array) -> np.array:\n",
    "    x_test = np.atleast_2d(x_test)\n",
    "    \n",
    "    x_test_razsirjen = np.concatenate([np.ones((x_test.shape[0], 1)), x_test], axis=1)\n",
    "    # napoved = X * koeficienti\n",
    "    y_pred = np.matmul(x_test_razsirjen, coefs)\n",
    "\n",
    "    return y_pred"
   ]
  },
  {
   "cell_type": "code",
   "execution_count": 6,
   "metadata": {},
   "outputs": [
    {
     "name": "stdout",
     "output_type": "stream",
     "text": [
      "Koeficienti:  [-2.00027892e-15  1.00000000e+00  5.00000000e+00 -1.12864894e-14\n",
      "  8.82392934e-15]\n",
      "Napoved za (1, 1, 0, 0): [6.]\n"
     ]
    }
   ],
   "source": [
    "x = np.random.random((1000, 4))\n",
    "y = x[:, 0] + 5*x[:, 1]\n",
    "coefs = najdi_koeficiente(x, y)\n",
    "\n",
    "print(\"Koeficienti: \", coefs)\n",
    "assert coefs.shape == (5,)\n",
    "\n",
    "print(\"Napoved za (1, 1, 0, 0):\", napovej(coefs, np.array([1, 1, 0, 0])))\n",
    "assert 6.01 > napovej(coefs, np.array([1, 1, 0, 0])) > 5.99"
   ]
  },
  {
   "attachments": {},
   "cell_type": "markdown",
   "metadata": {},
   "source": [
    "Pričakovala sem koeficiente 0, 1, 5, 0, 0, ker sta samo prvi in drugi stolpec vhodnih podatkov vplivala na ciljno spremenljivko y. Dobljeni koeficienti so zelo blizu pričakovanim."
   ]
  },
  {
   "cell_type": "markdown",
   "metadata": {},
   "source": [
    "1.b (4 točke): Preberi podatke iz datoteke \"dn1_1.npz\" in s 5-kratnim prečnim preverjanjem preveri natančnost linearne regresije (iz naloge 1.a). So koeficienti, ki jih dobiš podobni med različnimi vzorci (folds) množice podatkov?"
   ]
  },
  {
   "cell_type": "code",
   "execution_count": 44,
   "metadata": {},
   "outputs": [],
   "source": [
    "data = np.load(\"dn1_1.npz\")\n",
    "X = data[\"X\"]\n",
    "y = data[\"y\"]"
   ]
  },
  {
   "cell_type": "code",
   "execution_count": 45,
   "metadata": {},
   "outputs": [
    {
     "name": "stdout",
     "output_type": "stream",
     "text": [
      "Koeficienti folda 1: [ 1.85884348e+01  5.86061961e+02  2.00000000e+00 -1.00000000e+00\n",
      " -3.92267891e-13 -5.94705020e+02 -2.00000000e+00]\n",
      "RMSE folda 1: 7.961979390286286\n",
      "Koeficienti folda 2: [ 8.31706012e+00  6.08762358e+02  2.00000000e+00 -1.00000000e+00\n",
      " -7.84254964e-13 -5.90628818e+02 -2.00000000e+00]\n",
      "RMSE folda 2: 5.007431858086799\n",
      "Koeficienti folda 3: [ 1.15884468e+01  3.14660017e+02  2.00000000e+00 -1.00000000e+00\n",
      " -4.84397597e-13 -3.18338894e+02 -2.00000000e+00]\n",
      "RMSE folda 3: 9.009461005732025\n",
      "Koeficienti folda 4: [ 2.27692462e+01  1.73983053e+02  2.00000000e+00 -1.00000000e+00\n",
      " -4.05004741e-13 -1.60219211e+02 -2.00000000e+00]\n",
      "RMSE folda 4: 13.200581379732547\n",
      "Koeficienti folda 5: [ 1.08457305e+01  1.87464735e+01  2.00000000e+00 -1.00000000e+00\n",
      "  1.03051772e-13 -1.45875290e+01 -2.00000000e+00]\n",
      "RMSE folda 5: 2.342151556118449\n",
      "Povprečna napaka RMSE: 7.504321037991221\n",
      "Varianca napak: 13.560945741422723\n"
     ]
    }
   ],
   "source": [
    "from sklearn.model_selection import KFold\n",
    "from sklearn.linear_model import LinearRegression\n",
    "from sklearn.metrics import root_mean_squared_error\n",
    "\n",
    "kfold = KFold(n_splits=5)\n",
    "napake = []\n",
    "# napake2 = []\n",
    "koeficienti = np.zeros((5, X.shape[1]+1))\n",
    "# koeficienti2 = np.zeros((5, X.shape[1]+1))\n",
    "\n",
    "for i, (train_indeks, test_indeks) in enumerate(kfold.split(X)):\n",
    "        X_train = X[train_indeks, :]\n",
    "        X_test = X[test_indeks, :]\n",
    "        y_train = y[train_indeks]\n",
    "        y_test = y[test_indeks]\n",
    "\n",
    "        linr = najdi_koeficiente(X_train, y_train)\n",
    "        y_pred = napovej(linr, X_test)\n",
    "\n",
    "        napaka = root_mean_squared_error(y_test, y_pred)\n",
    "        napake.append(napaka)\n",
    "\n",
    "        koeficienti[i, :] = linr\n",
    "\n",
    "        print(f\"Koeficienti folda {i+1}: {linr}\")\n",
    "        print(f\"RMSE folda {i+1}: {napaka}\")\n",
    "\n",
    "        # primerjava z vgrajeno LinR (zame)\n",
    "        # model = LinearRegression().fit(X_train, y_train)\n",
    "        # y_pred2 = model.predict(X_test)\n",
    "        # napaka2 = mean_squared_error(y_test, y_pred2)\n",
    "        # napake2.append(napaka2)\n",
    "        # koeficienti2[i, 0] = model.intercept_\n",
    "        # koeficienti2[i, 1:] = model.coef_\n",
    "\n",
    "\n",
    "print(f\"Povprečna napaka RMSE: {np.mean(napake)}\")\n",
    "print(f\"Varianca napak: {np.var(napake)}\")\n",
    "\n",
    "\n",
    "# print(f\"Povprečna napaka RMSE2: {np.mean(napake2)}\")\n",
    "# print(f\"Varianca napak2: {np.var(napake2)}\")\n",
    "# print(f\"Koeficienti po foldih2: {koeficienti2}\")        "
   ]
  },
  {
   "attachments": {},
   "cell_type": "markdown",
   "metadata": {},
   "source": [
    "Vrednosti koeficientov med različnimi foldi so zelo različne. Model je še kar nestabilen, na nekaterih delitvah dela bolje, na drugih slabše."
   ]
  },
  {
   "cell_type": "markdown",
   "metadata": {},
   "source": [
    "1.c (4 točke): Koeficienti linearne regresije se med vzorci podatkov zelo razlikujejo, kljub pričakovanju, da temu ne bi bilo tako. Z analizo podatkov ugotovi zakaj se koeficienti linearne regresije zelo razlikujejo med različnimi vzorci? Ugotovitve argumentiraj tako, da izpišeš/ vizualiziraš dejstva o podatkih, ki ugotovitve podpirajo. \n",
    "\n",
    "Kako bi spremenili podatke, da zmanjšamo razlike med koeficienti linearne regresije za različne vzorce?"
   ]
  },
  {
   "attachments": {},
   "cell_type": "markdown",
   "metadata": {},
   "source": [
    "Koeficienti se med različnimi vzorci razlikujejo, ker so stolpci 0, 4 in 5 v matriki X zelo korelirani, kar vidimo iz korelacijske matrike spodaj. To model zmede, ker ni jasno, kaj najbolj vpliva na ciljno spremenljivko."
   ]
  },
  {
   "cell_type": "code",
   "execution_count": 15,
   "metadata": {},
   "outputs": [
    {
     "name": "stdout",
     "output_type": "stream",
     "text": [
      "          0         1         2         3         4         5\n",
      "0  1.000000 -0.013828 -0.012727  0.004459  1.000000  0.995059\n",
      "1 -0.013828  1.000000 -0.006165 -0.006841 -0.013828 -0.014971\n",
      "2 -0.012727 -0.006165  1.000000 -0.005845 -0.012727 -0.012789\n",
      "3  0.004459 -0.006841 -0.005845  1.000000  0.004459  0.004681\n",
      "4  1.000000 -0.013828 -0.012727  0.004459  1.000000  0.995059\n",
      "5  0.995059 -0.014971 -0.012789  0.004681  0.995059  1.000000\n"
     ]
    }
   ],
   "source": [
    "import pandas as pd\n",
    "\n",
    "df = pd.DataFrame(X)\n",
    "print(df.corr())\n",
    "\n",
    "# nekateri stolpci so močno korelirani => inverz X^T X je numerično nestabilen"
   ]
  },
  {
   "attachments": {},
   "cell_type": "markdown",
   "metadata": {},
   "source": [
    "Sedaj še vizualiziramo koreliranost napovednih spremenljivk:"
   ]
  },
  {
   "cell_type": "code",
   "execution_count": 34,
   "metadata": {},
   "outputs": [
    {
     "data": {
      "image/png": "[encoded data removed]",
      "text/plain": [
       "<Figure size 800x600 with 2 Axes>"
      ]
     },
     "metadata": {},
     "output_type": "display_data"
    }
   ],
   "source": [
    "import numpy as np\n",
    "import matplotlib.pyplot as plt\n",
    "\n",
    "korelacijska_matrika = df.corr()\n",
    "\n",
    "plt.figure(figsize=(8, 6))\n",
    "plt.imshow(korelacijska_matrika, cmap='coolwarm', vmin=-1, vmax=1)\n",
    "plt.colorbar(label='Korelacija')\n",
    "plt.title('Korelacijska matrika napovednih spremenljivk')\n",
    "\n",
    "for i in range(len(korelacijska_matrika)):\n",
    "    for j in range(len(korelacijska_matrika.columns)):\n",
    "        value = korelacijska_matrika.iloc[i, j]\n",
    "        plt.text(j, i, f\"{value:.2f}\", \n",
    "                 ha='center', \n",
    "                 va='center', \n",
    "                 color='black')\n",
    "plt.show()\n"
   ]
  },
  {
   "attachments": {},
   "cell_type": "markdown",
   "metadata": {},
   "source": [
    "Korelacija stolpcev 0 in 4 je 1.0, 0 in 5 0.995, 4 in 5 prav tako 0.995. Lahko bi odstranili stolpca 0 in 4, ker sta najbolj korelirana, in obdržali le stolpec 5."
   ]
  },
  {
   "cell_type": "markdown",
   "metadata": {},
   "source": [
    "1.d (2 točke): Problemov iz prejšnjih delov naloge se lahko izognemo z uporabo regularizacije Tihonova (ridge regression). Dopolni funkcijo *najdi_koeficiente_tihonova*, ki se jo izračuna s formulo $\\hat{\\beta}_{ridge} = (X^T X + \\lambda I)^{-1} X^T y$. Ne pozabi na začetno vrednost.\n",
    "Pravilnost delovanja funkcije lahko preveriš z dano kodo."
   ]
  },
  {
   "cell_type": "code",
   "execution_count": 42,
   "metadata": {},
   "outputs": [],
   "source": [
    "def najdi_koeficiente_tihonova(X, y, lambda_val=1e-8):\n",
    "    X_razsirjen = np.concatenate([np.ones((X.shape[0], 1)), X], axis=1)\n",
    "    # izračunamo X^T X\n",
    "    produkt = np.matmul(X_razsirjen.T, X_razsirjen)\n",
    "    id = np.eye(X_razsirjen.shape[1])\n",
    "    # prištejemo\n",
    "    vsota = produkt + lambda_val*id\n",
    "    # izračunamo inverz\n",
    "    inverz = np.linalg.inv(vsota)\n",
    "    # X^T y\n",
    "    xty = np.matmul(X_razsirjen.T, y)\n",
    "\n",
    "    koeficienti_tihonova = np.matmul(inverz, xty)\n",
    "\n",
    "    return koeficienti_tihonova"
   ]
  },
  {
   "cell_type": "code",
   "execution_count": 43,
   "metadata": {},
   "outputs": [
    {
     "name": "stdout",
     "output_type": "stream",
     "text": [
      "Koeficienti:  [ 3.54727873e-10  1.00000000e+00  5.00000000e+00 -1.81388589e-12\n",
      " -2.19375185e-11]\n",
      "Napoved za (1, 1, 0, 0): [6.]\n"
     ]
    }
   ],
   "source": [
    "x = np.random.random((1000, 4))\n",
    "y = x[:, 0] + 5*x[:, 1]\n",
    "coefs = najdi_koeficiente_tihonova(x, y)\n",
    "\n",
    "print(\"Koeficienti: \", coefs)\n",
    "assert coefs.shape == (5,)\n",
    "\n",
    "print(\"Napoved za (1, 1, 0, 0):\", napovej(coefs, np.array([1, 1, 0, 0])))\n",
    "assert 6.01 > napovej(coefs, np.array([1, 1, 0, 0])) > 5.99"
   ]
  },
  {
   "cell_type": "markdown",
   "metadata": {},
   "source": [
    "1.e (2 točke): Še enkrat ponovi eksperimente iz naloge 1.b, a sedaj namesto linearne regresije uporabi regularizacijo Tihonova. Dobiš sedaj boljše rezultate in bolj primerljive koeficiente med različnimi vzorci?"
   ]
  },
  {
   "cell_type": "code",
   "execution_count": 46,
   "metadata": {},
   "outputs": [
    {
     "name": "stdout",
     "output_type": "stream",
     "text": [
      "Koeficienti folda 1: [ 1.20323662e+01  2.91717605e+00  2.00000000e+00 -1.00000000e+00\n",
      "  8.97710757e-11  3.08315450e+00 -1.99999999e+00]\n",
      "RMSE folda 1: 0.00010352136096536689\n",
      "Koeficienti folda 2: [ 1.20325430e+01  2.91874046e+00  2.00000000e+00 -1.00000000e+00\n",
      "  9.27385426e-11  3.08205445e+00 -1.99999999e+00]\n",
      "RMSE folda 2: 0.0004952332813851393\n",
      "Koeficienti folda 3: [ 1.20324329e+01  2.92119138e+00  2.00000000e+00 -1.00000000e+00\n",
      "  8.74810942e-11  3.07970786e+00 -1.99999999e+00]\n",
      "RMSE folda 3: 0.0004487489468991075\n",
      "Koeficienti folda 4: [ 1.20320290e+01  2.93635439e+00  2.00000000e+00 -1.00000000e+00\n",
      "  8.74128429e-11  3.06449062e+00 -1.99999999e+00]\n",
      "RMSE folda 4: 0.0003321224193639634\n",
      "Koeficienti folda 5: [ 1.20325633e+01  2.93650695e+00  2.00000000e+00 -1.00000000e+00\n",
      "  9.03455555e-11  3.06311158e+00 -1.99999999e+00]\n",
      "RMSE folda 5: 0.00033611503929149763\n",
      "Povprečna napaka RMSE: 0.000343148209581015\n",
      "Varianca napak: 1.8374688979897795e-08\n"
     ]
    }
   ],
   "source": [
    "kfold = KFold(n_splits=5)\n",
    "napake = []\n",
    "koeficienti = np.zeros((5, X.shape[1]+1))\n",
    "\n",
    "for i, (train_indeks, test_indeks) in enumerate(kfold.split(X)):\n",
    "        X_train = X[train_indeks, :]\n",
    "        X_test = X[test_indeks, :]\n",
    "        y_train = y[train_indeks]\n",
    "        y_test = y[test_indeks]\n",
    "\n",
    "        linr = najdi_koeficiente_tihonova(X_train, y_train)\n",
    "        y_pred = napovej(linr, X_test)\n",
    "\n",
    "        napaka = root_mean_squared_error(y_test, y_pred)\n",
    "        napake.append(napaka)\n",
    "\n",
    "        koeficienti[i, :] = linr\n",
    "\n",
    "        print(f\"Koeficienti folda {i+1}: {linr}\")\n",
    "        print(f\"RMSE folda {i+1}: {napaka}\")\n",
    "\n",
    "print(f\"Povprečna napaka RMSE: {np.mean(napake)}\")\n",
    "print(f\"Varianca napak: {np.var(napake)}\")"
   ]
  },
  {
   "attachments": {},
   "cell_type": "markdown",
   "metadata": {},
   "source": [
    "Z regularizacijo Tihonova dobimo veliko boljše rezultate, koeficienti med različnimi foldi so zelo podobni, kar vidimo po zelo majhni varianci."
   ]
  },
  {
   "cell_type": "markdown",
   "metadata": {},
   "source": [
    "1.f (3 točke): Na spletu si preberi o regularizaciji Tihonova in napiši ključne razlike z linearno regresijo ter glavni razlog za boljše delovanje v našem primeru."
   ]
  },
  {
   "attachments": {},
   "cell_type": "markdown",
   "metadata": {},
   "source": [
    "V našem primeru so stolpci 0, 4 in 5 v podatkih močno korelirani, kar povzroči zmedo modela, ker ne ve, katera značilnost dejansko vpliva na ciljno spremenljivko. Zaradi tega matrika X^T X ni dobro obrnljiva in v linearni regresiji to vodi to numerično nestabilne rešitve: majhne spremembe v podatkih (npr. različen fold) lahko povzroči velike spremembe v koeficientih. \n",
    "Regularizacija Tihonova prišteje člen lambda*I, ki kaznuje velike koeficiente, ki jih rahlo zmanjša in s tem zmanjša njihov vpliv na ciljno spremenljivko. To stabilizira oceno koeficientov in izboljša delovanje modela."
   ]
  },
  {
   "cell_type": "markdown",
   "metadata": {},
   "source": [
    "## Naloga 2 (10 točk): K-najbližjih sosedov\n",
    "\n",
    "Analiziraj podatke iz datoteke \"dn1_2.npz\" in sestavi napovedni model k-najbližjih sosedov, ki bo čim boljše napovedal kvaliteto zraka. Poskrbi, da poleg ocene točnosti modela, poročaš tudi o stabilnosti ocene. Opiši, kakšen je tvoj model in kako/zakaj si se odločil za vsako izbiro. Opiši tudi eksperimente, ki si jih poskusil/a, a niso izboljšali rezultata.\n",
    "\n",
    "Opomba: Pomen spremenljivk je sledeč:\n",
    "- $x_{1}$: Temperatura (°C)\n",
    "- $x_{2}$: Vlažnost (%)\n",
    "- $x_{3}$: Koncentracija PM2,5 (µg/m³); Raven drobnih trdnih delcev\n",
    "- $x_{4}$: Koncentracija PM10 (µg/m³); Raven grobih trdih delcev.\n",
    "- $x_{5}$: Koncentracija NO2 (ppb)\n",
    "- $x_{6}$: Koncentracija SO2 (ppb)\n",
    "- $x_{7}$: Koncentracija CO (ppm)\n",
    "- $x_{8}$: Bližina industrijskih območij (km)\n",
    "- $x_{9}$: Gostota prebivalstva (ljudje/km²)\n",
    "- $x_{10}$: Čas, ki je pretekel od zadnje meritve (s)\n",
    "- $y$: Kvaliteta zraka"
   ]
  },
  {
   "cell_type": "code",
   "execution_count": 124,
   "metadata": {},
   "outputs": [],
   "source": [
    "data2 = np.load(\"dn1_2.npz\")\n",
    "X = data2[\"X\"]\n",
    "y = data2[\"y\"]"
   ]
  },
  {
   "cell_type": "code",
   "execution_count": 134,
   "metadata": {},
   "outputs": [
    {
     "name": "stdout",
     "output_type": "stream",
     "text": [
      "Najboljši k: 16\n",
      "Povprečna točnost: 0.9203999999999999\n",
      "Varianca pri najboljšem k: 5.3840000000000094e-05\n"
     ]
    }
   ],
   "source": [
    "from sklearn.preprocessing import StandardScaler\n",
    "\n",
    "# najprej standardiziramo podatke, ker KNN temelji na razdaljah\n",
    "\n",
    "scaler = StandardScaler()\n",
    "X_std = scaler.fit_transform(X)\n",
    "\n",
    "# uporabimo stratificirano vzorčenje, da bodo foldi približno enako porazdeljeni\n",
    "\n",
    "from sklearn.model_selection import StratifiedKFold\n",
    "from sklearn.neighbors import KNeighborsClassifier\n",
    "from sklearn.metrics import accuracy_score\n",
    "\n",
    "# nastavimo shuffle=True za večjo točnost\n",
    "\n",
    "kfold = StratifiedKFold(n_splits=5, shuffle=True, random_state=42)\n",
    "k_vrednosti = range(1, 31)\n",
    "povprecne_tocnosti = []\n",
    "k_varianca = []\n",
    "\n",
    "for k in k_vrednosti:\n",
    "    tocnosti = []\n",
    "    \n",
    "    for (train_indeks, test_indeks) in kfold.split(X_std, y):\n",
    "        X_train = X_std[train_indeks, :]\n",
    "        X_test = X_std[test_indeks, :]\n",
    "        y_train = y[train_indeks]\n",
    "        y_test = y[test_indeks]\n",
    "\n",
    "        model = KNeighborsClassifier(n_neighbors=k, weights='distance')\n",
    "        model.fit(X_train, y_train)\n",
    "        y_pred = model.predict(X_test)\n",
    "\n",
    "        tocnost = accuracy_score(y_test, y_pred)\n",
    "        tocnosti.append(tocnost)\n",
    "\n",
    "    povprecne_tocnosti.append(np.mean(tocnosti))\n",
    "    k_varianca.append(np.var(tocnosti))\n",
    "\n",
    "naj_k = k_vrednosti[np.argmax(povprecne_tocnosti)]\n",
    "print(f\"Najboljši k: {naj_k}\")\n",
    "print(f\"Povprečna točnost: {povprecne_tocnosti[naj_k - 1]}\")\n",
    "print(f\"Varianca pri najboljšem k: {k_varianca[naj_k - 1]}\")\n",
    "\n",
    "t1 = povprecne_tocnosti[naj_k - 1]\n",
    "var1 = k_varianca[naj_k - 1]"
   ]
  },
  {
   "attachments": {},
   "cell_type": "markdown",
   "metadata": {},
   "source": [
    "V svojem modelu sem najprej standardizirala podatke, saj model KNN temelji na razdalji med točkami, posamezne spremenljivke pa imajo različne enote, in brez tega bi razdalja temeljila predvsem na značilnostih z večjim razponom. \n",
    "\n",
    "Nato sem uporabila stratificirano vzorčenje za 5-kratno prečno preverjanje, ker želimo, da so v vsakem foldu razredi ciljne spremenljivke približno enako porazdeljeni. Paramater shuffle sem nastavila na True, s katerim dobimo raznolike vzorce v vsakem foldu, kar pa potem zmanjša nihanje rezultatov med foldi.\n",
    "\n",
    "Preizkusila sem k od 1 do 30, za vsako vrednost izračunala povprečno točnost 5 foldov in kot optimalno vrednost izbrala k, kjer je bila dosežena najvišja povprečna točnost. Za večje k nisem preizkušala, ker bi lahko model postal preveč splošen, kar poslabša ločljivost med razredi.\n",
    "Poleg točnosti sem poročala tudi o pripadajoči varianci za vsako število sosedov k, kar omogoča vpogled v stabilnost ocene.\n",
    "Najprej sem za najboljši k dobila 8, potem pa sem poskusila še obtežiti teh najbližjih k točk tako, da bližje kot je sosed, večjo utež dobi, in to se je izkazalo za uspešno, saj se je povprečna točnost povečala, varianca pri tem k pa zmanjšala, novi najboljši k je bil enak 16.\n"
   ]
  },
  {
   "attachments": {},
   "cell_type": "markdown",
   "metadata": {},
   "source": [
    "V nadaljevanju sem s sledečo kodo preverila še, ali so katere izmed napovednih spremenljivk zelo korelirane."
   ]
  },
  {
   "cell_type": "code",
   "execution_count": 116,
   "metadata": {},
   "outputs": [
    {
     "name": "stdout",
     "output_type": "stream",
     "text": [
      "0    0.425690\n",
      "1    0.359156\n",
      "2    0.973005\n",
      "3    1.000000\n",
      "4    0.439916\n",
      "5    0.401849\n",
      "6    0.518895\n",
      "7   -0.425018\n",
      "8    0.365734\n",
      "9    0.003251\n",
      "Name: 3, dtype: float64\n",
      "Visoko korelirani stolpci (|korelacija| > 0.95):\n",
      "Korelacija med 2. in 3. stolpcem: 0.9730048883255122\n"
     ]
    }
   ],
   "source": [
    "df = pd.DataFrame(X)\n",
    "\n",
    "kor_matrika = df.corr()\n",
    "meja = 0.95\n",
    "\n",
    "visoko_korelirani_stolpci = []\n",
    "\n",
    "for i in range(len(kor_matrika.columns)):\n",
    "    for j in range(i + 1, len(kor_matrika.columns)):\n",
    "        korelacija = kor_matrika.iloc[i, j]\n",
    "        if abs(korelacija) > meja:\n",
    "            visoko_korelirani_stolpci.append((kor_matrika.columns[i], kor_matrika.columns[j], korelacija))\n",
    "\n",
    "print(f\"Visoko korelirani stolpci (|korelacija| > {meja}):\")\n",
    "for st1, st2, kor in visoko_korelirani_stolpci:\n",
    "    print(f\"Korelacija med {st1}. in {st2}. stolpcem: {kor}\")"
   ]
  },
  {
   "attachments": {},
   "cell_type": "markdown",
   "metadata": {},
   "source": [
    "Zelo korelirana sta 2. in 3. stolpec, zato sem poskusila enega izmed njiju odstraniti iz podatkov in znova preveriti točnost modela:"
   ]
  },
  {
   "cell_type": "code",
   "execution_count": 112,
   "metadata": {},
   "outputs": [
    {
     "name": "stdout",
     "output_type": "stream",
     "text": [
      "Najboljši k: 14\n",
      "Povprečna točnost: 0.9212000000000001\n",
      "Varianca pri najboljšem k: 8.936000000000016e-05\n"
     ]
    }
   ],
   "source": [
    "# reduciramo podatkovno množico\n",
    "X_red1 = np.delete(X, 3, axis=1)\n",
    "\n",
    "scaler = StandardScaler()\n",
    "X_std = scaler.fit_transform(X_red1)\n",
    "\n",
    "kfold = StratifiedKFold(n_splits=5, shuffle=True, random_state=42)\n",
    "k_vrednosti = range(1, 31)\n",
    "povprecne_tocnosti = []\n",
    "k_varianca = []\n",
    "\n",
    "for k in k_vrednosti:\n",
    "    tocnosti = []\n",
    "    \n",
    "    for (train_indeks, test_indeks) in kfold.split(X_std, y):\n",
    "        X_train = X_std[train_indeks, :]\n",
    "        X_test = X_std[test_indeks, :]\n",
    "        y_train = y[train_indeks]\n",
    "        y_test = y[test_indeks]\n",
    "\n",
    "        model = KNeighborsClassifier(n_neighbors=k, weights='distance')\n",
    "        model.fit(X_train, y_train)\n",
    "        y_pred = model.predict(X_test)\n",
    "\n",
    "        tocnost = accuracy_score(y_test, y_pred)\n",
    "        tocnosti.append(tocnost)\n",
    "\n",
    "    povprecne_tocnosti.append(np.mean(tocnosti))\n",
    "    k_varianca.append(np.var(tocnosti))\n",
    "\n",
    "naj_k = k_vrednosti[np.argmax(povprecne_tocnosti)]\n",
    "print(f\"Najboljši k: {naj_k}\")\n",
    "print(f\"Povprečna točnost: {povprecne_tocnosti[naj_k - 1]}\")\n",
    "print(f\"Varianca pri najboljšem k: {k_varianca[naj_k - 1]}\")\n",
    "\n",
    "t2 = povprecne_tocnosti[naj_k - 1]\n",
    "var2 = k_varianca[naj_k - 1]"
   ]
  },
  {
   "cell_type": "code",
   "execution_count": 113,
   "metadata": {},
   "outputs": [
    {
     "name": "stdout",
     "output_type": "stream",
     "text": [
      "Absolutna vrednost razlike med točnostima: 0.000800000000000245\n",
      "Absolutna vrednost razlike varianc: 3.5520000000000066e-05\n"
     ]
    }
   ],
   "source": [
    "print(f\"Absolutna vrednost razlike med točnostima: {np.abs(t1 - t2)}\")\n",
    "print(f\"Absolutna vrednost razlike varianc: {np.abs(var1 - var2)}\")"
   ]
  },
  {
   "attachments": {},
   "cell_type": "markdown",
   "metadata": {},
   "source": [
    "Po odstranitvi ene izmed zelo koreliranih spremenljivk se točnost rahlo poviša, ampak dobimo pa tudi rahlo večjo varianco. Ker pa je razlika tako majhna, bi rekla, da sta modela enako dobra, in odstranjevanje tega enega stolpca ne vpliva na točnost rezultata."
   ]
  },
  {
   "attachments": {},
   "cell_type": "markdown",
   "metadata": {},
   "source": [
    "Vsebinsko gledano se zdi, da to, kdaj je bila opravljena zadnja meritev, ne vpliva na kvaliteto zraka, zato odstranimo zadnji stolpec in preverimo, ali to kaj vpliva na točnost in stabilnost modela:"
   ]
  },
  {
   "cell_type": "code",
   "execution_count": 131,
   "metadata": {},
   "outputs": [
    {
     "name": "stdout",
     "output_type": "stream",
     "text": [
      "Najboljši k: 12\n",
      "Povprečna točnost: 0.925\n",
      "Varianca pri najboljšem k: 5.4000000000000086e-05\n"
     ]
    }
   ],
   "source": [
    "# odstranimo x_10\n",
    "X_red2 = np.delete(X, 9, axis=1)\n",
    "\n",
    "scaler = StandardScaler()\n",
    "X_std = scaler.fit_transform(X_red2)\n",
    "\n",
    "kfold = StratifiedKFold(n_splits=5, shuffle=True, random_state=42)\n",
    "k_vrednosti = range(1, 31)\n",
    "povprecne_tocnosti = []\n",
    "k_varianca = []\n",
    "\n",
    "for k in k_vrednosti:\n",
    "    tocnosti = []\n",
    "    \n",
    "    for (train_indeks, test_indeks) in kfold.split(X_std, y):\n",
    "        X_train = X_std[train_indeks, :]\n",
    "        X_test = X_std[test_indeks, :]\n",
    "        y_train = y[train_indeks]\n",
    "        y_test = y[test_indeks]\n",
    "\n",
    "        model = KNeighborsClassifier(n_neighbors=k, weights='distance')\n",
    "        model.fit(X_train, y_train)\n",
    "        y_pred = model.predict(X_test)\n",
    "\n",
    "        tocnost = accuracy_score(y_test, y_pred)\n",
    "        tocnosti.append(tocnost)\n",
    "\n",
    "    povprecne_tocnosti.append(np.mean(tocnosti))\n",
    "    k_varianca.append(np.var(tocnosti))\n",
    "\n",
    "naj_k = k_vrednosti[np.argmax(povprecne_tocnosti)]\n",
    "print(f\"Najboljši k: {naj_k}\")\n",
    "print(f\"Povprečna točnost: {povprecne_tocnosti[naj_k - 1]}\")\n",
    "print(f\"Varianca pri najboljšem k: {k_varianca[naj_k - 1]}\")\n",
    "\n",
    "t3 = povprecne_tocnosti[naj_k - 1]\n",
    "var3 = k_varianca[naj_k - 1]\n"
   ]
  },
  {
   "cell_type": "code",
   "execution_count": 132,
   "metadata": {},
   "outputs": [
    {
     "name": "stdout",
     "output_type": "stream",
     "text": [
      "Absolutna vrednost razlike med točnostima: 0.0046000000000001595\n",
      "Absolutna vrednost razlike varianc: 1.599999999999917e-07\n"
     ]
    }
   ],
   "source": [
    "print(f\"Absolutna vrednost razlike med točnostima: {np.abs(t1 - t3)}\")\n",
    "print(f\"Absolutna vrednost razlike varianc: {np.abs(var1 - var3)}\")"
   ]
  },
  {
   "attachments": {},
   "cell_type": "markdown",
   "metadata": {},
   "source": [
    "Točnost se poveča za 0.46%, varianca pa se sicer tudi poveča, ampak je sprememba tako majhna, da je zanemarljiva. Torej je v našem primeru bolje ne upoštevati spremenljivke x_10, in tako dobimo, da je optimalen k=12."
   ]
  }
 ],
 "metadata": {
  "kernelspec": {
   "display_name": "NSU25",
   "language": "python",
   "name": "python3"
  },
  "language_info": {
   "codemirror_mode": {
    "name": "ipython",
    "version": 3
   },
   "file_extension": ".py",
   "mimetype": "text/x-python",
   "name": "python",
   "nbconvert_exporter": "python",
   "pygments_lexer": "ipython3",
   "version": "3.9.21 (main, Dec 11 2024, 10:21:40) \n[Clang 14.0.6 ]"
  },
  "vscode": {
   "interpreter": {
    "hash": "63bee8e6ca91816a292c7ef87d9c72516d6d4291ff2b26dc2f61b16ae86360e6"
   }
  }
 },
 "nbformat": 4,
 "nbformat_minor": 2
}
